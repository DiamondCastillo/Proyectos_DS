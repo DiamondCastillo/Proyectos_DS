{
  "nbformat": 4,
  "nbformat_minor": 0,
  "metadata": {
    "colab": {
      "provenance": []
    },
    "kernelspec": {
      "name": "python3",
      "display_name": "Python 3"
    },
    "language_info": {
      "name": "python"
    },
    "widgets": {
      "application/vnd.jupyter.widget-state+json": {
        "005695b082304bce84616609e1e685b3": {
          "model_module": "@jupyter-widgets/controls",
          "model_name": "HBoxModel",
          "model_module_version": "1.5.0",
          "state": {
            "_dom_classes": [],
            "_model_module": "@jupyter-widgets/controls",
            "_model_module_version": "1.5.0",
            "_model_name": "HBoxModel",
            "_view_count": null,
            "_view_module": "@jupyter-widgets/controls",
            "_view_module_version": "1.5.0",
            "_view_name": "HBoxView",
            "box_style": "",
            "children": [
              "IPY_MODEL_f0a6f52c10e64674ab4833f87aaaa1cd",
              "IPY_MODEL_54353cb51c914c90b86ef5fb1ac99e2d",
              "IPY_MODEL_91fdf82990134f1698a9261e805b59e9"
            ],
            "layout": "IPY_MODEL_4f99a8d769bc411d88639f879f3eb152"
          }
        },
        "f0a6f52c10e64674ab4833f87aaaa1cd": {
          "model_module": "@jupyter-widgets/controls",
          "model_name": "HTMLModel",
          "model_module_version": "1.5.0",
          "state": {
            "_dom_classes": [],
            "_model_module": "@jupyter-widgets/controls",
            "_model_module_version": "1.5.0",
            "_model_name": "HTMLModel",
            "_view_count": null,
            "_view_module": "@jupyter-widgets/controls",
            "_view_module_version": "1.5.0",
            "_view_name": "HTMLView",
            "description": "",
            "description_tooltip": null,
            "layout": "IPY_MODEL_076444fb65da4d6fa2f9a2e31e9d043d",
            "placeholder": "​",
            "style": "IPY_MODEL_db4de8dfaa6941729ee223b526c8badf",
            "value": "Processing: 100%"
          }
        },
        "54353cb51c914c90b86ef5fb1ac99e2d": {
          "model_module": "@jupyter-widgets/controls",
          "model_name": "FloatProgressModel",
          "model_module_version": "1.5.0",
          "state": {
            "_dom_classes": [],
            "_model_module": "@jupyter-widgets/controls",
            "_model_module_version": "1.5.0",
            "_model_name": "FloatProgressModel",
            "_view_count": null,
            "_view_module": "@jupyter-widgets/controls",
            "_view_module_version": "1.5.0",
            "_view_name": "ProgressView",
            "bar_style": "",
            "description": "",
            "description_tooltip": null,
            "layout": "IPY_MODEL_e795460660cf481b8aa140abaa72ee0b",
            "max": 65,
            "min": 0,
            "orientation": "horizontal",
            "style": "IPY_MODEL_9f35fb32391f4901ab082a7fd5fceb3e",
            "value": 65
          }
        },
        "91fdf82990134f1698a9261e805b59e9": {
          "model_module": "@jupyter-widgets/controls",
          "model_name": "HTMLModel",
          "model_module_version": "1.5.0",
          "state": {
            "_dom_classes": [],
            "_model_module": "@jupyter-widgets/controls",
            "_model_module_version": "1.5.0",
            "_model_name": "HTMLModel",
            "_view_count": null,
            "_view_module": "@jupyter-widgets/controls",
            "_view_module_version": "1.5.0",
            "_view_name": "HTMLView",
            "description": "",
            "description_tooltip": null,
            "layout": "IPY_MODEL_429fe984511441de826e42273d84658c",
            "placeholder": "​",
            "style": "IPY_MODEL_bcab71a4af784ed5be12261577e8e69d",
            "value": " 65/65 [10:07&lt;00:00,  8.75s/it]"
          }
        },
        "4f99a8d769bc411d88639f879f3eb152": {
          "model_module": "@jupyter-widgets/base",
          "model_name": "LayoutModel",
          "model_module_version": "1.2.0",
          "state": {
            "_model_module": "@jupyter-widgets/base",
            "_model_module_version": "1.2.0",
            "_model_name": "LayoutModel",
            "_view_count": null,
            "_view_module": "@jupyter-widgets/base",
            "_view_module_version": "1.2.0",
            "_view_name": "LayoutView",
            "align_content": null,
            "align_items": null,
            "align_self": null,
            "border": null,
            "bottom": null,
            "display": null,
            "flex": null,
            "flex_flow": null,
            "grid_area": null,
            "grid_auto_columns": null,
            "grid_auto_flow": null,
            "grid_auto_rows": null,
            "grid_column": null,
            "grid_gap": null,
            "grid_row": null,
            "grid_template_areas": null,
            "grid_template_columns": null,
            "grid_template_rows": null,
            "height": null,
            "justify_content": null,
            "justify_items": null,
            "left": null,
            "margin": null,
            "max_height": null,
            "max_width": null,
            "min_height": null,
            "min_width": null,
            "object_fit": null,
            "object_position": null,
            "order": null,
            "overflow": null,
            "overflow_x": null,
            "overflow_y": null,
            "padding": null,
            "right": null,
            "top": null,
            "visibility": "hidden",
            "width": null
          }
        },
        "076444fb65da4d6fa2f9a2e31e9d043d": {
          "model_module": "@jupyter-widgets/base",
          "model_name": "LayoutModel",
          "model_module_version": "1.2.0",
          "state": {
            "_model_module": "@jupyter-widgets/base",
            "_model_module_version": "1.2.0",
            "_model_name": "LayoutModel",
            "_view_count": null,
            "_view_module": "@jupyter-widgets/base",
            "_view_module_version": "1.2.0",
            "_view_name": "LayoutView",
            "align_content": null,
            "align_items": null,
            "align_self": null,
            "border": null,
            "bottom": null,
            "display": null,
            "flex": null,
            "flex_flow": null,
            "grid_area": null,
            "grid_auto_columns": null,
            "grid_auto_flow": null,
            "grid_auto_rows": null,
            "grid_column": null,
            "grid_gap": null,
            "grid_row": null,
            "grid_template_areas": null,
            "grid_template_columns": null,
            "grid_template_rows": null,
            "height": null,
            "justify_content": null,
            "justify_items": null,
            "left": null,
            "margin": null,
            "max_height": null,
            "max_width": null,
            "min_height": null,
            "min_width": null,
            "object_fit": null,
            "object_position": null,
            "order": null,
            "overflow": null,
            "overflow_x": null,
            "overflow_y": null,
            "padding": null,
            "right": null,
            "top": null,
            "visibility": null,
            "width": null
          }
        },
        "db4de8dfaa6941729ee223b526c8badf": {
          "model_module": "@jupyter-widgets/controls",
          "model_name": "DescriptionStyleModel",
          "model_module_version": "1.5.0",
          "state": {
            "_model_module": "@jupyter-widgets/controls",
            "_model_module_version": "1.5.0",
            "_model_name": "DescriptionStyleModel",
            "_view_count": null,
            "_view_module": "@jupyter-widgets/base",
            "_view_module_version": "1.2.0",
            "_view_name": "StyleView",
            "description_width": ""
          }
        },
        "e795460660cf481b8aa140abaa72ee0b": {
          "model_module": "@jupyter-widgets/base",
          "model_name": "LayoutModel",
          "model_module_version": "1.2.0",
          "state": {
            "_model_module": "@jupyter-widgets/base",
            "_model_module_version": "1.2.0",
            "_model_name": "LayoutModel",
            "_view_count": null,
            "_view_module": "@jupyter-widgets/base",
            "_view_module_version": "1.2.0",
            "_view_name": "LayoutView",
            "align_content": null,
            "align_items": null,
            "align_self": null,
            "border": null,
            "bottom": null,
            "display": null,
            "flex": null,
            "flex_flow": null,
            "grid_area": null,
            "grid_auto_columns": null,
            "grid_auto_flow": null,
            "grid_auto_rows": null,
            "grid_column": null,
            "grid_gap": null,
            "grid_row": null,
            "grid_template_areas": null,
            "grid_template_columns": null,
            "grid_template_rows": null,
            "height": null,
            "justify_content": null,
            "justify_items": null,
            "left": null,
            "margin": null,
            "max_height": null,
            "max_width": null,
            "min_height": null,
            "min_width": null,
            "object_fit": null,
            "object_position": null,
            "order": null,
            "overflow": null,
            "overflow_x": null,
            "overflow_y": null,
            "padding": null,
            "right": null,
            "top": null,
            "visibility": null,
            "width": null
          }
        },
        "9f35fb32391f4901ab082a7fd5fceb3e": {
          "model_module": "@jupyter-widgets/controls",
          "model_name": "ProgressStyleModel",
          "model_module_version": "1.5.0",
          "state": {
            "_model_module": "@jupyter-widgets/controls",
            "_model_module_version": "1.5.0",
            "_model_name": "ProgressStyleModel",
            "_view_count": null,
            "_view_module": "@jupyter-widgets/base",
            "_view_module_version": "1.2.0",
            "_view_name": "StyleView",
            "bar_color": null,
            "description_width": ""
          }
        },
        "429fe984511441de826e42273d84658c": {
          "model_module": "@jupyter-widgets/base",
          "model_name": "LayoutModel",
          "model_module_version": "1.2.0",
          "state": {
            "_model_module": "@jupyter-widgets/base",
            "_model_module_version": "1.2.0",
            "_model_name": "LayoutModel",
            "_view_count": null,
            "_view_module": "@jupyter-widgets/base",
            "_view_module_version": "1.2.0",
            "_view_name": "LayoutView",
            "align_content": null,
            "align_items": null,
            "align_self": null,
            "border": null,
            "bottom": null,
            "display": null,
            "flex": null,
            "flex_flow": null,
            "grid_area": null,
            "grid_auto_columns": null,
            "grid_auto_flow": null,
            "grid_auto_rows": null,
            "grid_column": null,
            "grid_gap": null,
            "grid_row": null,
            "grid_template_areas": null,
            "grid_template_columns": null,
            "grid_template_rows": null,
            "height": null,
            "justify_content": null,
            "justify_items": null,
            "left": null,
            "margin": null,
            "max_height": null,
            "max_width": null,
            "min_height": null,
            "min_width": null,
            "object_fit": null,
            "object_position": null,
            "order": null,
            "overflow": null,
            "overflow_x": null,
            "overflow_y": null,
            "padding": null,
            "right": null,
            "top": null,
            "visibility": null,
            "width": null
          }
        },
        "bcab71a4af784ed5be12261577e8e69d": {
          "model_module": "@jupyter-widgets/controls",
          "model_name": "DescriptionStyleModel",
          "model_module_version": "1.5.0",
          "state": {
            "_model_module": "@jupyter-widgets/controls",
            "_model_module_version": "1.5.0",
            "_model_name": "DescriptionStyleModel",
            "_view_count": null,
            "_view_module": "@jupyter-widgets/base",
            "_view_module_version": "1.2.0",
            "_view_name": "StyleView",
            "description_width": ""
          }
        }
      }
    }
  },
  "cells": [
    {
      "cell_type": "markdown",
      "source": [
        "### Autor: Alexis Castillo\n",
        "### Script para el entrenamiento del modelo"
      ],
      "metadata": {
        "id": "iw2aqxxafiqz"
      }
    },
    {
      "cell_type": "code",
      "source": [
        "# Conexion a Google Colaborative\n",
        "from google.colab import drive\n",
        "drive.mount('/gdrive')"
      ],
      "metadata": {
        "colab": {
          "base_uri": "https://localhost:8080/"
        },
        "id": "9x63PNj9p0WQ",
        "outputId": "732aec00-0152-4827-bb03-aeb6aa5e304e"
      },
      "execution_count": null,
      "outputs": [
        {
          "output_type": "stream",
          "name": "stdout",
          "text": [
            "Mounted at /gdrive\n"
          ]
        }
      ]
    },
    {
      "cell_type": "code",
      "source": [
        "# Librerías a instalar.\n",
        "# !pip install pycaret\n",
        "# !pip install optuna"
      ],
      "metadata": {
        "id": "zG5n4JgHhV28"
      },
      "execution_count": null,
      "outputs": []
    },
    {
      "cell_type": "code",
      "source": [
        "# Importación de librerías\n",
        "import pandas as pd\n",
        "import numpy as np\n",
        "import matplotlib.pyplot as plt\n",
        "%matplotlib inline\n",
        "import seaborn as sns\n",
        "from sklearn.preprocessing import StandardScaler\n",
        "from collections import Counter\n",
        "from imblearn.combine import SMOTETomek\n",
        "from pycaret.classification import *"
      ],
      "metadata": {
        "id": "3JqfrDMxqbHh"
      },
      "execution_count": null,
      "outputs": []
    },
    {
      "cell_type": "code",
      "source": [
        "# Carga de datos desde una carpeta en google drive\n",
        "# Dataset armado para entrada a los algoritmos (Estos aún no están normalizados)\n",
        "train_preprared = pd.read_csv('/gdrive/MyDrive/entrenamiento_intercorp/train_pre_normalize.csv')\n",
        "train_preprared.head(2)"
      ],
      "metadata": {
        "colab": {
          "base_uri": "https://localhost:8080/",
          "height": 205
        },
        "id": "caKCSJFWp0ZD",
        "outputId": "dbe554cb-8505-45bb-cd20-70df96c3e0ea"
      },
      "execution_count": null,
      "outputs": [
        {
          "output_type": "execute_result",
          "data": {
            "text/plain": [
              "   EDAD  INGRESO_ESTIMADO  Target  FLGSEXO_M  TIPESTCIVIL_CAS  \\\n",
              "0  34.0           750.780       0          1                0   \n",
              "1  25.0          2898.245       0          0                0   \n",
              "\n",
              "   TIPESTCIVIL_CBS  TIPESTCIVIL_CON  TIPESTCIVIL_SEP  TIPESTCIVIL_SOL  \\\n",
              "0                0                0                0                1   \n",
              "1                0                0                0                1   \n",
              "\n",
              "   TIPESTCIVIL_VIU  ...  SEGMENTO_BANCO_SEG_10  SEGMENTO_BANCO_SEG_11  \\\n",
              "0                0  ...                      0                      0   \n",
              "1                0  ...                      0                      0   \n",
              "\n",
              "   SEGMENTO_BANCO_SEG_2  SEGMENTO_BANCO_SEG_3  SEGMENTO_BANCO_SEG_4  \\\n",
              "0                     0                     0                     0   \n",
              "1                     1                     0                     0   \n",
              "\n",
              "   SEGMENTO_BANCO_SEG_5  SEGMENTO_BANCO_SEG_6  SEGMENTO_BANCO_SEG_7  \\\n",
              "0                     0                     0                     0   \n",
              "1                     0                     0                     0   \n",
              "\n",
              "   SEGMENTO_BANCO_SEG_8  SEGMENTO_BANCO_SIN_SEG  \n",
              "0                     1                       0  \n",
              "1                     0                       0  \n",
              "\n",
              "[2 rows x 50 columns]"
            ],
            "text/html": [
              "\n",
              "  <div id=\"df-3687b45d-9ff4-48e3-b7da-d38bfb76ebcc\">\n",
              "    <div class=\"colab-df-container\">\n",
              "      <div>\n",
              "<style scoped>\n",
              "    .dataframe tbody tr th:only-of-type {\n",
              "        vertical-align: middle;\n",
              "    }\n",
              "\n",
              "    .dataframe tbody tr th {\n",
              "        vertical-align: top;\n",
              "    }\n",
              "\n",
              "    .dataframe thead th {\n",
              "        text-align: right;\n",
              "    }\n",
              "</style>\n",
              "<table border=\"1\" class=\"dataframe\">\n",
              "  <thead>\n",
              "    <tr style=\"text-align: right;\">\n",
              "      <th></th>\n",
              "      <th>EDAD</th>\n",
              "      <th>INGRESO_ESTIMADO</th>\n",
              "      <th>Target</th>\n",
              "      <th>FLGSEXO_M</th>\n",
              "      <th>TIPESTCIVIL_CAS</th>\n",
              "      <th>TIPESTCIVIL_CBS</th>\n",
              "      <th>TIPESTCIVIL_CON</th>\n",
              "      <th>TIPESTCIVIL_SEP</th>\n",
              "      <th>TIPESTCIVIL_SOL</th>\n",
              "      <th>TIPESTCIVIL_VIU</th>\n",
              "      <th>...</th>\n",
              "      <th>SEGMENTO_BANCO_SEG_10</th>\n",
              "      <th>SEGMENTO_BANCO_SEG_11</th>\n",
              "      <th>SEGMENTO_BANCO_SEG_2</th>\n",
              "      <th>SEGMENTO_BANCO_SEG_3</th>\n",
              "      <th>SEGMENTO_BANCO_SEG_4</th>\n",
              "      <th>SEGMENTO_BANCO_SEG_5</th>\n",
              "      <th>SEGMENTO_BANCO_SEG_6</th>\n",
              "      <th>SEGMENTO_BANCO_SEG_7</th>\n",
              "      <th>SEGMENTO_BANCO_SEG_8</th>\n",
              "      <th>SEGMENTO_BANCO_SIN_SEG</th>\n",
              "    </tr>\n",
              "  </thead>\n",
              "  <tbody>\n",
              "    <tr>\n",
              "      <th>0</th>\n",
              "      <td>34.0</td>\n",
              "      <td>750.780</td>\n",
              "      <td>0</td>\n",
              "      <td>1</td>\n",
              "      <td>0</td>\n",
              "      <td>0</td>\n",
              "      <td>0</td>\n",
              "      <td>0</td>\n",
              "      <td>1</td>\n",
              "      <td>0</td>\n",
              "      <td>...</td>\n",
              "      <td>0</td>\n",
              "      <td>0</td>\n",
              "      <td>0</td>\n",
              "      <td>0</td>\n",
              "      <td>0</td>\n",
              "      <td>0</td>\n",
              "      <td>0</td>\n",
              "      <td>0</td>\n",
              "      <td>1</td>\n",
              "      <td>0</td>\n",
              "    </tr>\n",
              "    <tr>\n",
              "      <th>1</th>\n",
              "      <td>25.0</td>\n",
              "      <td>2898.245</td>\n",
              "      <td>0</td>\n",
              "      <td>0</td>\n",
              "      <td>0</td>\n",
              "      <td>0</td>\n",
              "      <td>0</td>\n",
              "      <td>0</td>\n",
              "      <td>1</td>\n",
              "      <td>0</td>\n",
              "      <td>...</td>\n",
              "      <td>0</td>\n",
              "      <td>0</td>\n",
              "      <td>1</td>\n",
              "      <td>0</td>\n",
              "      <td>0</td>\n",
              "      <td>0</td>\n",
              "      <td>0</td>\n",
              "      <td>0</td>\n",
              "      <td>0</td>\n",
              "      <td>0</td>\n",
              "    </tr>\n",
              "  </tbody>\n",
              "</table>\n",
              "<p>2 rows × 50 columns</p>\n",
              "</div>\n",
              "      <button class=\"colab-df-convert\" onclick=\"convertToInteractive('df-3687b45d-9ff4-48e3-b7da-d38bfb76ebcc')\"\n",
              "              title=\"Convert this dataframe to an interactive table.\"\n",
              "              style=\"display:none;\">\n",
              "        \n",
              "  <svg xmlns=\"http://www.w3.org/2000/svg\" height=\"24px\"viewBox=\"0 0 24 24\"\n",
              "       width=\"24px\">\n",
              "    <path d=\"M0 0h24v24H0V0z\" fill=\"none\"/>\n",
              "    <path d=\"M18.56 5.44l.94 2.06.94-2.06 2.06-.94-2.06-.94-.94-2.06-.94 2.06-2.06.94zm-11 1L8.5 8.5l.94-2.06 2.06-.94-2.06-.94L8.5 2.5l-.94 2.06-2.06.94zm10 10l.94 2.06.94-2.06 2.06-.94-2.06-.94-.94-2.06-.94 2.06-2.06.94z\"/><path d=\"M17.41 7.96l-1.37-1.37c-.4-.4-.92-.59-1.43-.59-.52 0-1.04.2-1.43.59L10.3 9.45l-7.72 7.72c-.78.78-.78 2.05 0 2.83L4 21.41c.39.39.9.59 1.41.59.51 0 1.02-.2 1.41-.59l7.78-7.78 2.81-2.81c.8-.78.8-2.07 0-2.86zM5.41 20L4 18.59l7.72-7.72 1.47 1.35L5.41 20z\"/>\n",
              "  </svg>\n",
              "      </button>\n",
              "      \n",
              "  <style>\n",
              "    .colab-df-container {\n",
              "      display:flex;\n",
              "      flex-wrap:wrap;\n",
              "      gap: 12px;\n",
              "    }\n",
              "\n",
              "    .colab-df-convert {\n",
              "      background-color: #E8F0FE;\n",
              "      border: none;\n",
              "      border-radius: 50%;\n",
              "      cursor: pointer;\n",
              "      display: none;\n",
              "      fill: #1967D2;\n",
              "      height: 32px;\n",
              "      padding: 0 0 0 0;\n",
              "      width: 32px;\n",
              "    }\n",
              "\n",
              "    .colab-df-convert:hover {\n",
              "      background-color: #E2EBFA;\n",
              "      box-shadow: 0px 1px 2px rgba(60, 64, 67, 0.3), 0px 1px 3px 1px rgba(60, 64, 67, 0.15);\n",
              "      fill: #174EA6;\n",
              "    }\n",
              "\n",
              "    [theme=dark] .colab-df-convert {\n",
              "      background-color: #3B4455;\n",
              "      fill: #D2E3FC;\n",
              "    }\n",
              "\n",
              "    [theme=dark] .colab-df-convert:hover {\n",
              "      background-color: #434B5C;\n",
              "      box-shadow: 0px 1px 3px 1px rgba(0, 0, 0, 0.15);\n",
              "      filter: drop-shadow(0px 1px 2px rgba(0, 0, 0, 0.3));\n",
              "      fill: #FFFFFF;\n",
              "    }\n",
              "  </style>\n",
              "\n",
              "      <script>\n",
              "        const buttonEl =\n",
              "          document.querySelector('#df-3687b45d-9ff4-48e3-b7da-d38bfb76ebcc button.colab-df-convert');\n",
              "        buttonEl.style.display =\n",
              "          google.colab.kernel.accessAllowed ? 'block' : 'none';\n",
              "\n",
              "        async function convertToInteractive(key) {\n",
              "          const element = document.querySelector('#df-3687b45d-9ff4-48e3-b7da-d38bfb76ebcc');\n",
              "          const dataTable =\n",
              "            await google.colab.kernel.invokeFunction('convertToInteractive',\n",
              "                                                     [key], {});\n",
              "          if (!dataTable) return;\n",
              "\n",
              "          const docLinkHtml = 'Like what you see? Visit the ' +\n",
              "            '<a target=\"_blank\" href=https://colab.research.google.com/notebooks/data_table.ipynb>data table notebook</a>'\n",
              "            + ' to learn more about interactive tables.';\n",
              "          element.innerHTML = '';\n",
              "          dataTable['output_type'] = 'display_data';\n",
              "          await google.colab.output.renderOutput(dataTable, element);\n",
              "          const docLink = document.createElement('div');\n",
              "          docLink.innerHTML = docLinkHtml;\n",
              "          element.appendChild(docLink);\n",
              "        }\n",
              "      </script>\n",
              "    </div>\n",
              "  </div>\n",
              "  "
            ]
          },
          "metadata": {},
          "execution_count": 3
        }
      ]
    },
    {
      "cell_type": "code",
      "source": [
        "train_preprared.shape"
      ],
      "metadata": {
        "colab": {
          "base_uri": "https://localhost:8080/"
        },
        "id": "pOhRFpbLsAKC",
        "outputId": "87930550-8f95-40a6-9884-0677218927a0"
      },
      "execution_count": null,
      "outputs": [
        {
          "output_type": "execute_result",
          "data": {
            "text/plain": [
              "(135247, 50)"
            ]
          },
          "metadata": {},
          "execution_count": 4
        }
      ]
    },
    {
      "cell_type": "code",
      "source": [
        "# Separo datos de variables predictoras y la variable independiente\n",
        "X = train_preprared.drop('Target', axis=1)\n",
        "y = train_preprared.Target"
      ],
      "metadata": {
        "id": "tCVEGo12IlZO"
      },
      "execution_count": null,
      "outputs": []
    },
    {
      "cell_type": "code",
      "source": [
        "# Escalamiento de variables numéricos\n",
        "# Algunos algoritmos son sensibles a la escala de los datos, \n",
        "# otros como los basados en árboles de decisión no lo son pero ayuda a que el entrenamiento converga más rápido\n",
        "X_num = X[['EDAD','INGRESO_ESTIMADO']]\n",
        "\n",
        "scaler = StandardScaler()\n",
        "train_scaled_X = scaler.fit_transform(X_num)\n",
        "\n",
        "X_num_scaled = pd.DataFrame(train_scaled_X, \n",
        "                            columns=X_num.columns, \n",
        "                            index=X.index)\n",
        "\n",
        "X_num_scaled.describe()"
      ],
      "metadata": {
        "colab": {
          "base_uri": "https://localhost:8080/",
          "height": 300
        },
        "id": "wfIVMkOGsFw9",
        "outputId": "b6d715fb-8285-4240-f066-263ab995c9c1"
      },
      "execution_count": null,
      "outputs": [
        {
          "output_type": "execute_result",
          "data": {
            "text/plain": [
              "               EDAD  INGRESO_ESTIMADO\n",
              "count  1.352470e+05      1.352470e+05\n",
              "mean   2.823583e-16      3.638165e-16\n",
              "std    1.000004e+00      1.000004e+00\n",
              "min   -2.149727e+00     -1.223115e+00\n",
              "25%   -7.912837e-01     -7.558280e-01\n",
              "50%   -1.643098e-01     -3.537761e-01\n",
              "75%    5.671597e-01      4.508216e-01\n",
              "max    2.604825e+00      2.302270e+00"
            ],
            "text/html": [
              "\n",
              "  <div id=\"df-3987feab-69c1-4850-88a2-4149e7925947\">\n",
              "    <div class=\"colab-df-container\">\n",
              "      <div>\n",
              "<style scoped>\n",
              "    .dataframe tbody tr th:only-of-type {\n",
              "        vertical-align: middle;\n",
              "    }\n",
              "\n",
              "    .dataframe tbody tr th {\n",
              "        vertical-align: top;\n",
              "    }\n",
              "\n",
              "    .dataframe thead th {\n",
              "        text-align: right;\n",
              "    }\n",
              "</style>\n",
              "<table border=\"1\" class=\"dataframe\">\n",
              "  <thead>\n",
              "    <tr style=\"text-align: right;\">\n",
              "      <th></th>\n",
              "      <th>EDAD</th>\n",
              "      <th>INGRESO_ESTIMADO</th>\n",
              "    </tr>\n",
              "  </thead>\n",
              "  <tbody>\n",
              "    <tr>\n",
              "      <th>count</th>\n",
              "      <td>1.352470e+05</td>\n",
              "      <td>1.352470e+05</td>\n",
              "    </tr>\n",
              "    <tr>\n",
              "      <th>mean</th>\n",
              "      <td>2.823583e-16</td>\n",
              "      <td>3.638165e-16</td>\n",
              "    </tr>\n",
              "    <tr>\n",
              "      <th>std</th>\n",
              "      <td>1.000004e+00</td>\n",
              "      <td>1.000004e+00</td>\n",
              "    </tr>\n",
              "    <tr>\n",
              "      <th>min</th>\n",
              "      <td>-2.149727e+00</td>\n",
              "      <td>-1.223115e+00</td>\n",
              "    </tr>\n",
              "    <tr>\n",
              "      <th>25%</th>\n",
              "      <td>-7.912837e-01</td>\n",
              "      <td>-7.558280e-01</td>\n",
              "    </tr>\n",
              "    <tr>\n",
              "      <th>50%</th>\n",
              "      <td>-1.643098e-01</td>\n",
              "      <td>-3.537761e-01</td>\n",
              "    </tr>\n",
              "    <tr>\n",
              "      <th>75%</th>\n",
              "      <td>5.671597e-01</td>\n",
              "      <td>4.508216e-01</td>\n",
              "    </tr>\n",
              "    <tr>\n",
              "      <th>max</th>\n",
              "      <td>2.604825e+00</td>\n",
              "      <td>2.302270e+00</td>\n",
              "    </tr>\n",
              "  </tbody>\n",
              "</table>\n",
              "</div>\n",
              "      <button class=\"colab-df-convert\" onclick=\"convertToInteractive('df-3987feab-69c1-4850-88a2-4149e7925947')\"\n",
              "              title=\"Convert this dataframe to an interactive table.\"\n",
              "              style=\"display:none;\">\n",
              "        \n",
              "  <svg xmlns=\"http://www.w3.org/2000/svg\" height=\"24px\"viewBox=\"0 0 24 24\"\n",
              "       width=\"24px\">\n",
              "    <path d=\"M0 0h24v24H0V0z\" fill=\"none\"/>\n",
              "    <path d=\"M18.56 5.44l.94 2.06.94-2.06 2.06-.94-2.06-.94-.94-2.06-.94 2.06-2.06.94zm-11 1L8.5 8.5l.94-2.06 2.06-.94-2.06-.94L8.5 2.5l-.94 2.06-2.06.94zm10 10l.94 2.06.94-2.06 2.06-.94-2.06-.94-.94-2.06-.94 2.06-2.06.94z\"/><path d=\"M17.41 7.96l-1.37-1.37c-.4-.4-.92-.59-1.43-.59-.52 0-1.04.2-1.43.59L10.3 9.45l-7.72 7.72c-.78.78-.78 2.05 0 2.83L4 21.41c.39.39.9.59 1.41.59.51 0 1.02-.2 1.41-.59l7.78-7.78 2.81-2.81c.8-.78.8-2.07 0-2.86zM5.41 20L4 18.59l7.72-7.72 1.47 1.35L5.41 20z\"/>\n",
              "  </svg>\n",
              "      </button>\n",
              "      \n",
              "  <style>\n",
              "    .colab-df-container {\n",
              "      display:flex;\n",
              "      flex-wrap:wrap;\n",
              "      gap: 12px;\n",
              "    }\n",
              "\n",
              "    .colab-df-convert {\n",
              "      background-color: #E8F0FE;\n",
              "      border: none;\n",
              "      border-radius: 50%;\n",
              "      cursor: pointer;\n",
              "      display: none;\n",
              "      fill: #1967D2;\n",
              "      height: 32px;\n",
              "      padding: 0 0 0 0;\n",
              "      width: 32px;\n",
              "    }\n",
              "\n",
              "    .colab-df-convert:hover {\n",
              "      background-color: #E2EBFA;\n",
              "      box-shadow: 0px 1px 2px rgba(60, 64, 67, 0.3), 0px 1px 3px 1px rgba(60, 64, 67, 0.15);\n",
              "      fill: #174EA6;\n",
              "    }\n",
              "\n",
              "    [theme=dark] .colab-df-convert {\n",
              "      background-color: #3B4455;\n",
              "      fill: #D2E3FC;\n",
              "    }\n",
              "\n",
              "    [theme=dark] .colab-df-convert:hover {\n",
              "      background-color: #434B5C;\n",
              "      box-shadow: 0px 1px 3px 1px rgba(0, 0, 0, 0.15);\n",
              "      filter: drop-shadow(0px 1px 2px rgba(0, 0, 0, 0.3));\n",
              "      fill: #FFFFFF;\n",
              "    }\n",
              "  </style>\n",
              "\n",
              "      <script>\n",
              "        const buttonEl =\n",
              "          document.querySelector('#df-3987feab-69c1-4850-88a2-4149e7925947 button.colab-df-convert');\n",
              "        buttonEl.style.display =\n",
              "          google.colab.kernel.accessAllowed ? 'block' : 'none';\n",
              "\n",
              "        async function convertToInteractive(key) {\n",
              "          const element = document.querySelector('#df-3987feab-69c1-4850-88a2-4149e7925947');\n",
              "          const dataTable =\n",
              "            await google.colab.kernel.invokeFunction('convertToInteractive',\n",
              "                                                     [key], {});\n",
              "          if (!dataTable) return;\n",
              "\n",
              "          const docLinkHtml = 'Like what you see? Visit the ' +\n",
              "            '<a target=\"_blank\" href=https://colab.research.google.com/notebooks/data_table.ipynb>data table notebook</a>'\n",
              "            + ' to learn more about interactive tables.';\n",
              "          element.innerHTML = '';\n",
              "          dataTable['output_type'] = 'display_data';\n",
              "          await google.colab.output.renderOutput(dataTable, element);\n",
              "          const docLink = document.createElement('div');\n",
              "          docLink.innerHTML = docLinkHtml;\n",
              "          element.appendChild(docLink);\n",
              "        }\n",
              "      </script>\n",
              "    </div>\n",
              "  </div>\n",
              "  "
            ]
          },
          "metadata": {},
          "execution_count": 6
        }
      ]
    },
    {
      "cell_type": "code",
      "source": [
        "# Vuelvo a definir el dataset de variables independientes con los datos escalados\n",
        "X = pd.concat([X.drop(['EDAD','INGRESO_ESTIMADO'], axis=1), X_num_scaled], axis=1)"
      ],
      "metadata": {
        "id": "dTM19UmGtSLb"
      },
      "execution_count": null,
      "outputs": []
    },
    {
      "cell_type": "markdown",
      "source": [
        "### Muestreo"
      ],
      "metadata": {
        "id": "8gWcEwz5UDXC"
      }
    },
    {
      "cell_type": "code",
      "source": [
        "# Creación de la data de train y la data de test estratificado por el target\n",
        "X_train, X_test, y_train, y_test = train_test_split(X,\n",
        "                                                    y, \n",
        "                                                    test_size=0.20,\n",
        "                                                    stratify= y,\n",
        "                                                    random_state=123)\n",
        "\n",
        "# Realizo el reset index antes de aplicar el resampling de la base de entrenamiento\n",
        "X_train.reset_index(drop=True, inplace=True)\n",
        "X_test.reset_index(drop=True, inplace=True)\n",
        "y_train.reset_index(drop=True, inplace=True)\n",
        "y_test.reset_index(drop=True, inplace=True)"
      ],
      "metadata": {
        "id": "tMPUNKZYaocF"
      },
      "execution_count": null,
      "outputs": []
    },
    {
      "cell_type": "markdown",
      "source": [
        "Balance de clases de la variable a predecir (Target)"
      ],
      "metadata": {
        "id": "V7mh4dBLjppM"
      }
    },
    {
      "cell_type": "code",
      "source": [
        "# Visualizando la variable target\n",
        "print(\"\\nCantidad de elementos por Clase: \")\n",
        "target_count = train_preprared['Target'].value_counts()\n",
        "\n",
        "print('Clase 0:', target_count[0], \"({:.3%})\".format(round(target_count[0] / (target_count[0]+target_count[1]), 2)))\n",
        "print('Clase 1:', target_count[1], \"({:.3%})\".format(round(target_count[1] / (target_count[0]+target_count[1]), 2)))\n",
        "print('Total  :', train_preprared.shape[0])"
      ],
      "metadata": {
        "id": "sjtsrtMP3wIQ",
        "colab": {
          "base_uri": "https://localhost:8080/"
        },
        "outputId": "e5815ea9-9916-4945-885f-78acf61b7021"
      },
      "execution_count": null,
      "outputs": [
        {
          "output_type": "stream",
          "name": "stdout",
          "text": [
            "\n",
            "Cantidad de elementos por Clase: \n",
            "Clase 0: 134949 (100.000%)\n",
            "Clase 1: 298 (0.000%)\n",
            "Total  : 135247\n"
          ]
        }
      ]
    },
    {
      "cell_type": "code",
      "source": [
        "# Aplico una técnica de remuestreo de la base de entrenamiento\n",
        "# SMOTETomek: Realiza un sobremuestreo de la clase  minoritaria y elimina registros de la clase mayoritaria, para ambas técnicas utiliza un criterio matemático\n",
        "# El parámetro sampling_strategy indica la proporción final a la que debe terminar el sobremuestreo, en este caso hasta una proporción de 95% a 5%.\n",
        "st_overunder = SMOTETomek(sampling_strategy=0.05, \n",
        "                          random_state=123)\n",
        "X_st_overunder, y_st_overunder = st_overunder.fit_resample(X_train, y_train)\n",
        "print (\"Distribución de clases antes del resampling {}\".format(Counter(y_train)))\n",
        "print (\"Distribución de clases después del resampling {}\".format(Counter(y_st_overunder)))"
      ],
      "metadata": {
        "colab": {
          "base_uri": "https://localhost:8080/"
        },
        "id": "OOy62N4I3s98",
        "outputId": "a2384ddf-c73b-431c-a38c-deaa3b0ac6be"
      },
      "execution_count": null,
      "outputs": [
        {
          "output_type": "stream",
          "name": "stdout",
          "text": [
            "Distribución de clases antes del resampling Counter({0: 107959, 1: 238})\n",
            "Distribución de clases después del resampling Counter({0: 107791, 1: 5229})\n"
          ]
        }
      ]
    },
    {
      "cell_type": "code",
      "source": [
        "# Nuevo dataset con el remuestreo de clases.\n",
        "train_prep = pd.concat([X_st_overunder, y_st_overunder], axis=1)"
      ],
      "metadata": {
        "id": "8pHa9qz8ynm2"
      },
      "execution_count": null,
      "outputs": []
    },
    {
      "cell_type": "code",
      "source": [
        "train_prep.shape"
      ],
      "metadata": {
        "colab": {
          "base_uri": "https://localhost:8080/"
        },
        "id": "ZhdmIOKCypxC",
        "outputId": "d4060343-f708-4b12-e204-9430a45eccaa"
      },
      "execution_count": null,
      "outputs": [
        {
          "output_type": "execute_result",
          "data": {
            "text/plain": [
              "(113020, 50)"
            ]
          },
          "metadata": {},
          "execution_count": 26
        }
      ]
    },
    {
      "cell_type": "markdown",
      "source": [
        "# Etapa 4: Entrenamiento de los algoritmos de clasificación\n",
        "Para tener un primer bench de los algoritmos que potencialmente podrían funcionar mejor con los datos, utlizo la herramienta de AutoML Pycaret para probar 15 algoritmos de clasificación y tunear posteriormente solo los mejores."
      ],
      "metadata": {
        "id": "ZTmAeClUlUXP"
      }
    },
    {
      "cell_type": "markdown",
      "source": [
        "Instaciamos los datos para las pruebas de algoritmos con pycaret"
      ],
      "metadata": {
        "id": "Lm12HslDhj7b"
      }
    },
    {
      "cell_type": "code",
      "source": [
        "clf1 = setup(train_prep, \n",
        "             target='Target', \n",
        "             session_id=123, \n",
        "             fold_strategy='stratifiedkfold', \n",
        "             fold=6)"
      ],
      "metadata": {
        "colab": {
          "base_uri": "https://localhost:8080/",
          "height": 645
        },
        "id": "l0vE4-y3sF4O",
        "outputId": "ebe0eadd-a721-4997-8fdc-a4a534b96a46"
      },
      "execution_count": null,
      "outputs": [
        {
          "output_type": "display_data",
          "data": {
            "text/plain": [
              "<pandas.io.formats.style.Styler at 0x7f6b1dbd56f0>"
            ],
            "text/html": [
              "<style type=\"text/css\">\n",
              "#T_7c256_row8_col1 {\n",
              "  background-color: lightgreen;\n",
              "}\n",
              "</style>\n",
              "<table id=\"T_7c256\" class=\"dataframe\">\n",
              "  <thead>\n",
              "    <tr>\n",
              "      <th class=\"blank level0\" >&nbsp;</th>\n",
              "      <th id=\"T_7c256_level0_col0\" class=\"col_heading level0 col0\" >Description</th>\n",
              "      <th id=\"T_7c256_level0_col1\" class=\"col_heading level0 col1\" >Value</th>\n",
              "    </tr>\n",
              "  </thead>\n",
              "  <tbody>\n",
              "    <tr>\n",
              "      <th id=\"T_7c256_level0_row0\" class=\"row_heading level0 row0\" >0</th>\n",
              "      <td id=\"T_7c256_row0_col0\" class=\"data row0 col0\" >Session id</td>\n",
              "      <td id=\"T_7c256_row0_col1\" class=\"data row0 col1\" >123</td>\n",
              "    </tr>\n",
              "    <tr>\n",
              "      <th id=\"T_7c256_level0_row1\" class=\"row_heading level0 row1\" >1</th>\n",
              "      <td id=\"T_7c256_row1_col0\" class=\"data row1 col0\" >Target</td>\n",
              "      <td id=\"T_7c256_row1_col1\" class=\"data row1 col1\" >Target</td>\n",
              "    </tr>\n",
              "    <tr>\n",
              "      <th id=\"T_7c256_level0_row2\" class=\"row_heading level0 row2\" >2</th>\n",
              "      <td id=\"T_7c256_row2_col0\" class=\"data row2 col0\" >Target type</td>\n",
              "      <td id=\"T_7c256_row2_col1\" class=\"data row2 col1\" >Binary</td>\n",
              "    </tr>\n",
              "    <tr>\n",
              "      <th id=\"T_7c256_level0_row3\" class=\"row_heading level0 row3\" >3</th>\n",
              "      <td id=\"T_7c256_row3_col0\" class=\"data row3 col0\" >Original data shape</td>\n",
              "      <td id=\"T_7c256_row3_col1\" class=\"data row3 col1\" >(113020, 50)</td>\n",
              "    </tr>\n",
              "    <tr>\n",
              "      <th id=\"T_7c256_level0_row4\" class=\"row_heading level0 row4\" >4</th>\n",
              "      <td id=\"T_7c256_row4_col0\" class=\"data row4 col0\" >Transformed data shape</td>\n",
              "      <td id=\"T_7c256_row4_col1\" class=\"data row4 col1\" >(113020, 50)</td>\n",
              "    </tr>\n",
              "    <tr>\n",
              "      <th id=\"T_7c256_level0_row5\" class=\"row_heading level0 row5\" >5</th>\n",
              "      <td id=\"T_7c256_row5_col0\" class=\"data row5 col0\" >Transformed train set shape</td>\n",
              "      <td id=\"T_7c256_row5_col1\" class=\"data row5 col1\" >(79114, 50)</td>\n",
              "    </tr>\n",
              "    <tr>\n",
              "      <th id=\"T_7c256_level0_row6\" class=\"row_heading level0 row6\" >6</th>\n",
              "      <td id=\"T_7c256_row6_col0\" class=\"data row6 col0\" >Transformed test set shape</td>\n",
              "      <td id=\"T_7c256_row6_col1\" class=\"data row6 col1\" >(33906, 50)</td>\n",
              "    </tr>\n",
              "    <tr>\n",
              "      <th id=\"T_7c256_level0_row7\" class=\"row_heading level0 row7\" >7</th>\n",
              "      <td id=\"T_7c256_row7_col0\" class=\"data row7 col0\" >Numeric features</td>\n",
              "      <td id=\"T_7c256_row7_col1\" class=\"data row7 col1\" >49</td>\n",
              "    </tr>\n",
              "    <tr>\n",
              "      <th id=\"T_7c256_level0_row8\" class=\"row_heading level0 row8\" >8</th>\n",
              "      <td id=\"T_7c256_row8_col0\" class=\"data row8 col0\" >Preprocess</td>\n",
              "      <td id=\"T_7c256_row8_col1\" class=\"data row8 col1\" >True</td>\n",
              "    </tr>\n",
              "    <tr>\n",
              "      <th id=\"T_7c256_level0_row9\" class=\"row_heading level0 row9\" >9</th>\n",
              "      <td id=\"T_7c256_row9_col0\" class=\"data row9 col0\" >Imputation type</td>\n",
              "      <td id=\"T_7c256_row9_col1\" class=\"data row9 col1\" >simple</td>\n",
              "    </tr>\n",
              "    <tr>\n",
              "      <th id=\"T_7c256_level0_row10\" class=\"row_heading level0 row10\" >10</th>\n",
              "      <td id=\"T_7c256_row10_col0\" class=\"data row10 col0\" >Numeric imputation</td>\n",
              "      <td id=\"T_7c256_row10_col1\" class=\"data row10 col1\" >mean</td>\n",
              "    </tr>\n",
              "    <tr>\n",
              "      <th id=\"T_7c256_level0_row11\" class=\"row_heading level0 row11\" >11</th>\n",
              "      <td id=\"T_7c256_row11_col0\" class=\"data row11 col0\" >Categorical imputation</td>\n",
              "      <td id=\"T_7c256_row11_col1\" class=\"data row11 col1\" >mode</td>\n",
              "    </tr>\n",
              "    <tr>\n",
              "      <th id=\"T_7c256_level0_row12\" class=\"row_heading level0 row12\" >12</th>\n",
              "      <td id=\"T_7c256_row12_col0\" class=\"data row12 col0\" >Fold Generator</td>\n",
              "      <td id=\"T_7c256_row12_col1\" class=\"data row12 col1\" >StratifiedKFold</td>\n",
              "    </tr>\n",
              "    <tr>\n",
              "      <th id=\"T_7c256_level0_row13\" class=\"row_heading level0 row13\" >13</th>\n",
              "      <td id=\"T_7c256_row13_col0\" class=\"data row13 col0\" >Fold Number</td>\n",
              "      <td id=\"T_7c256_row13_col1\" class=\"data row13 col1\" >6</td>\n",
              "    </tr>\n",
              "    <tr>\n",
              "      <th id=\"T_7c256_level0_row14\" class=\"row_heading level0 row14\" >14</th>\n",
              "      <td id=\"T_7c256_row14_col0\" class=\"data row14 col0\" >CPU Jobs</td>\n",
              "      <td id=\"T_7c256_row14_col1\" class=\"data row14 col1\" >-1</td>\n",
              "    </tr>\n",
              "    <tr>\n",
              "      <th id=\"T_7c256_level0_row15\" class=\"row_heading level0 row15\" >15</th>\n",
              "      <td id=\"T_7c256_row15_col0\" class=\"data row15 col0\" >Use GPU</td>\n",
              "      <td id=\"T_7c256_row15_col1\" class=\"data row15 col1\" >False</td>\n",
              "    </tr>\n",
              "    <tr>\n",
              "      <th id=\"T_7c256_level0_row16\" class=\"row_heading level0 row16\" >16</th>\n",
              "      <td id=\"T_7c256_row16_col0\" class=\"data row16 col0\" >Log Experiment</td>\n",
              "      <td id=\"T_7c256_row16_col1\" class=\"data row16 col1\" >False</td>\n",
              "    </tr>\n",
              "    <tr>\n",
              "      <th id=\"T_7c256_level0_row17\" class=\"row_heading level0 row17\" >17</th>\n",
              "      <td id=\"T_7c256_row17_col0\" class=\"data row17 col0\" >Experiment Name</td>\n",
              "      <td id=\"T_7c256_row17_col1\" class=\"data row17 col1\" >clf-default-name</td>\n",
              "    </tr>\n",
              "    <tr>\n",
              "      <th id=\"T_7c256_level0_row18\" class=\"row_heading level0 row18\" >18</th>\n",
              "      <td id=\"T_7c256_row18_col0\" class=\"data row18 col0\" >USI</td>\n",
              "      <td id=\"T_7c256_row18_col1\" class=\"data row18 col1\" >12a5</td>\n",
              "    </tr>\n",
              "  </tbody>\n",
              "</table>\n"
            ]
          },
          "metadata": {}
        }
      ]
    },
    {
      "cell_type": "code",
      "source": [
        "# La librería pycaret entrena distintos algoritmos de clasificación y nos indica cuál es el que genera las mejores métricas\n",
        "compare_models()"
      ],
      "metadata": {
        "colab": {
          "base_uri": "https://localhost:8080/",
          "height": 751,
          "referenced_widgets": [
            "005695b082304bce84616609e1e685b3",
            "f0a6f52c10e64674ab4833f87aaaa1cd",
            "54353cb51c914c90b86ef5fb1ac99e2d",
            "91fdf82990134f1698a9261e805b59e9",
            "4f99a8d769bc411d88639f879f3eb152",
            "076444fb65da4d6fa2f9a2e31e9d043d",
            "db4de8dfaa6941729ee223b526c8badf",
            "e795460660cf481b8aa140abaa72ee0b",
            "9f35fb32391f4901ab082a7fd5fceb3e",
            "429fe984511441de826e42273d84658c",
            "bcab71a4af784ed5be12261577e8e69d"
          ]
        },
        "id": "1vCIP80Qup4v",
        "outputId": "43f97064-a9ed-461a-bfe0-d1c1924db17e"
      },
      "execution_count": null,
      "outputs": [
        {
          "output_type": "display_data",
          "data": {
            "text/plain": [
              "<IPython.core.display.HTML object>"
            ],
            "text/html": []
          },
          "metadata": {}
        },
        {
          "output_type": "display_data",
          "data": {
            "text/plain": [
              "<pandas.io.formats.style.Styler at 0x7f6b182398d0>"
            ],
            "text/html": [
              "<style type=\"text/css\">\n",
              "#T_587ea th {\n",
              "  text-align: left;\n",
              "}\n",
              "#T_587ea_row0_col0, #T_587ea_row0_col3, #T_587ea_row0_col4, #T_587ea_row1_col0, #T_587ea_row1_col1, #T_587ea_row1_col2, #T_587ea_row1_col3, #T_587ea_row1_col4, #T_587ea_row1_col5, #T_587ea_row1_col6, #T_587ea_row1_col7, #T_587ea_row2_col0, #T_587ea_row2_col1, #T_587ea_row2_col2, #T_587ea_row2_col3, #T_587ea_row2_col4, #T_587ea_row2_col5, #T_587ea_row2_col6, #T_587ea_row2_col7, #T_587ea_row3_col0, #T_587ea_row3_col1, #T_587ea_row3_col2, #T_587ea_row3_col3, #T_587ea_row3_col4, #T_587ea_row3_col5, #T_587ea_row3_col6, #T_587ea_row3_col7, #T_587ea_row4_col0, #T_587ea_row4_col1, #T_587ea_row4_col2, #T_587ea_row4_col3, #T_587ea_row4_col5, #T_587ea_row4_col6, #T_587ea_row4_col7, #T_587ea_row5_col0, #T_587ea_row5_col1, #T_587ea_row5_col2, #T_587ea_row5_col3, #T_587ea_row5_col4, #T_587ea_row5_col5, #T_587ea_row5_col6, #T_587ea_row5_col7, #T_587ea_row6_col0, #T_587ea_row6_col1, #T_587ea_row6_col2, #T_587ea_row6_col3, #T_587ea_row6_col4, #T_587ea_row6_col5, #T_587ea_row6_col6, #T_587ea_row6_col7, #T_587ea_row7_col0, #T_587ea_row7_col1, #T_587ea_row7_col2, #T_587ea_row7_col3, #T_587ea_row7_col4, #T_587ea_row7_col5, #T_587ea_row7_col6, #T_587ea_row7_col7, #T_587ea_row8_col0, #T_587ea_row8_col1, #T_587ea_row8_col2, #T_587ea_row8_col3, #T_587ea_row8_col4, #T_587ea_row8_col5, #T_587ea_row8_col6, #T_587ea_row8_col7, #T_587ea_row9_col0, #T_587ea_row9_col1, #T_587ea_row9_col2, #T_587ea_row9_col3, #T_587ea_row9_col5, #T_587ea_row9_col6, #T_587ea_row9_col7, #T_587ea_row10_col0, #T_587ea_row10_col1, #T_587ea_row10_col2, #T_587ea_row10_col3, #T_587ea_row10_col4, #T_587ea_row10_col5, #T_587ea_row10_col6, #T_587ea_row10_col7, #T_587ea_row11_col0, #T_587ea_row11_col1, #T_587ea_row11_col2, #T_587ea_row11_col3, #T_587ea_row11_col4, #T_587ea_row11_col5, #T_587ea_row11_col6, #T_587ea_row11_col7, #T_587ea_row12_col0, #T_587ea_row12_col1, #T_587ea_row12_col2, #T_587ea_row12_col3, #T_587ea_row12_col4, #T_587ea_row12_col5, #T_587ea_row12_col6, #T_587ea_row12_col7, #T_587ea_row13_col0, #T_587ea_row13_col1, #T_587ea_row13_col2, #T_587ea_row13_col3, #T_587ea_row13_col4, #T_587ea_row13_col5, #T_587ea_row13_col6, #T_587ea_row13_col7, #T_587ea_row14_col0, #T_587ea_row14_col1, #T_587ea_row14_col2, #T_587ea_row14_col4, #T_587ea_row14_col5, #T_587ea_row14_col6, #T_587ea_row14_col7 {\n",
              "  text-align: left;\n",
              "}\n",
              "#T_587ea_row0_col1, #T_587ea_row0_col2, #T_587ea_row0_col5, #T_587ea_row0_col6, #T_587ea_row0_col7, #T_587ea_row4_col4, #T_587ea_row9_col4, #T_587ea_row14_col3 {\n",
              "  text-align: left;\n",
              "  background-color: yellow;\n",
              "}\n",
              "#T_587ea_row0_col8, #T_587ea_row1_col8, #T_587ea_row2_col8, #T_587ea_row3_col8, #T_587ea_row4_col8, #T_587ea_row5_col8, #T_587ea_row6_col8, #T_587ea_row7_col8, #T_587ea_row8_col8, #T_587ea_row10_col8, #T_587ea_row11_col8, #T_587ea_row12_col8, #T_587ea_row13_col8, #T_587ea_row14_col8 {\n",
              "  text-align: left;\n",
              "  background-color: lightgrey;\n",
              "}\n",
              "#T_587ea_row9_col8 {\n",
              "  text-align: left;\n",
              "  background-color: yellow;\n",
              "  background-color: lightgrey;\n",
              "}\n",
              "</style>\n",
              "<table id=\"T_587ea\" class=\"dataframe\">\n",
              "  <thead>\n",
              "    <tr>\n",
              "      <th class=\"blank level0\" >&nbsp;</th>\n",
              "      <th id=\"T_587ea_level0_col0\" class=\"col_heading level0 col0\" >Model</th>\n",
              "      <th id=\"T_587ea_level0_col1\" class=\"col_heading level0 col1\" >Accuracy</th>\n",
              "      <th id=\"T_587ea_level0_col2\" class=\"col_heading level0 col2\" >AUC</th>\n",
              "      <th id=\"T_587ea_level0_col3\" class=\"col_heading level0 col3\" >Recall</th>\n",
              "      <th id=\"T_587ea_level0_col4\" class=\"col_heading level0 col4\" >Prec.</th>\n",
              "      <th id=\"T_587ea_level0_col5\" class=\"col_heading level0 col5\" >F1</th>\n",
              "      <th id=\"T_587ea_level0_col6\" class=\"col_heading level0 col6\" >Kappa</th>\n",
              "      <th id=\"T_587ea_level0_col7\" class=\"col_heading level0 col7\" >MCC</th>\n",
              "      <th id=\"T_587ea_level0_col8\" class=\"col_heading level0 col8\" >TT (Sec)</th>\n",
              "    </tr>\n",
              "  </thead>\n",
              "  <tbody>\n",
              "    <tr>\n",
              "      <th id=\"T_587ea_level0_row0\" class=\"row_heading level0 row0\" >xgboost</th>\n",
              "      <td id=\"T_587ea_row0_col0\" class=\"data row0 col0\" >Extreme Gradient Boosting</td>\n",
              "      <td id=\"T_587ea_row0_col1\" class=\"data row0 col1\" >0.9936</td>\n",
              "      <td id=\"T_587ea_row0_col2\" class=\"data row0 col2\" >0.9928</td>\n",
              "      <td id=\"T_587ea_row0_col3\" class=\"data row0 col3\" >0.8626</td>\n",
              "      <td id=\"T_587ea_row0_col4\" class=\"data row0 col4\" >0.9978</td>\n",
              "      <td id=\"T_587ea_row0_col5\" class=\"data row0 col5\" >0.9251</td>\n",
              "      <td id=\"T_587ea_row0_col6\" class=\"data row0 col6\" >0.9218</td>\n",
              "      <td id=\"T_587ea_row0_col7\" class=\"data row0 col7\" >0.9245</td>\n",
              "      <td id=\"T_587ea_row0_col8\" class=\"data row0 col8\" >25.9017</td>\n",
              "    </tr>\n",
              "    <tr>\n",
              "      <th id=\"T_587ea_level0_row1\" class=\"row_heading level0 row1\" >lightgbm</th>\n",
              "      <td id=\"T_587ea_row1_col0\" class=\"data row1 col0\" >Light Gradient Boosting Machine</td>\n",
              "      <td id=\"T_587ea_row1_col1\" class=\"data row1 col1\" >0.9930</td>\n",
              "      <td id=\"T_587ea_row1_col2\" class=\"data row1 col2\" >0.9920</td>\n",
              "      <td id=\"T_587ea_row1_col3\" class=\"data row1 col3\" >0.8495</td>\n",
              "      <td id=\"T_587ea_row1_col4\" class=\"data row1 col4\" >0.9994</td>\n",
              "      <td id=\"T_587ea_row1_col5\" class=\"data row1 col5\" >0.9182</td>\n",
              "      <td id=\"T_587ea_row1_col6\" class=\"data row1 col6\" >0.9146</td>\n",
              "      <td id=\"T_587ea_row1_col7\" class=\"data row1 col7\" >0.9180</td>\n",
              "      <td id=\"T_587ea_row1_col8\" class=\"data row1 col8\" >1.9167</td>\n",
              "    </tr>\n",
              "    <tr>\n",
              "      <th id=\"T_587ea_level0_row2\" class=\"row_heading level0 row2\" >et</th>\n",
              "      <td id=\"T_587ea_row2_col0\" class=\"data row2 col0\" >Extra Trees Classifier</td>\n",
              "      <td id=\"T_587ea_row2_col1\" class=\"data row2 col1\" >0.9913</td>\n",
              "      <td id=\"T_587ea_row2_col2\" class=\"data row2 col2\" >0.9889</td>\n",
              "      <td id=\"T_587ea_row2_col3\" class=\"data row2 col3\" >0.8544</td>\n",
              "      <td id=\"T_587ea_row2_col4\" class=\"data row2 col4\" >0.9531</td>\n",
              "      <td id=\"T_587ea_row2_col5\" class=\"data row2 col5\" >0.9010</td>\n",
              "      <td id=\"T_587ea_row2_col6\" class=\"data row2 col6\" >0.8964</td>\n",
              "      <td id=\"T_587ea_row2_col7\" class=\"data row2 col7\" >0.8979</td>\n",
              "      <td id=\"T_587ea_row2_col8\" class=\"data row2 col8\" >13.1600</td>\n",
              "    </tr>\n",
              "    <tr>\n",
              "      <th id=\"T_587ea_level0_row3\" class=\"row_heading level0 row3\" >rf</th>\n",
              "      <td id=\"T_587ea_row3_col0\" class=\"data row3 col0\" >Random Forest Classifier</td>\n",
              "      <td id=\"T_587ea_row3_col1\" class=\"data row3 col1\" >0.9895</td>\n",
              "      <td id=\"T_587ea_row3_col2\" class=\"data row3 col2\" >0.9908</td>\n",
              "      <td id=\"T_587ea_row3_col3\" class=\"data row3 col3\" >0.8093</td>\n",
              "      <td id=\"T_587ea_row3_col4\" class=\"data row3 col4\" >0.9580</td>\n",
              "      <td id=\"T_587ea_row3_col5\" class=\"data row3 col5\" >0.8773</td>\n",
              "      <td id=\"T_587ea_row3_col6\" class=\"data row3 col6\" >0.8719</td>\n",
              "      <td id=\"T_587ea_row3_col7\" class=\"data row3 col7\" >0.8753</td>\n",
              "      <td id=\"T_587ea_row3_col8\" class=\"data row3 col8\" >10.5517</td>\n",
              "    </tr>\n",
              "    <tr>\n",
              "      <th id=\"T_587ea_level0_row4\" class=\"row_heading level0 row4\" >lda</th>\n",
              "      <td id=\"T_587ea_row4_col0\" class=\"data row4 col0\" >Linear Discriminant Analysis</td>\n",
              "      <td id=\"T_587ea_row4_col1\" class=\"data row4 col1\" >0.9828</td>\n",
              "      <td id=\"T_587ea_row4_col2\" class=\"data row4 col2\" >0.9490</td>\n",
              "      <td id=\"T_587ea_row4_col3\" class=\"data row4 col3\" >0.6279</td>\n",
              "      <td id=\"T_587ea_row4_col4\" class=\"data row4 col4\" >1.0000</td>\n",
              "      <td id=\"T_587ea_row4_col5\" class=\"data row4 col5\" >0.7713</td>\n",
              "      <td id=\"T_587ea_row4_col6\" class=\"data row4 col6\" >0.7628</td>\n",
              "      <td id=\"T_587ea_row4_col7\" class=\"data row4 col7\" >0.7853</td>\n",
              "      <td id=\"T_587ea_row4_col8\" class=\"data row4 col8\" >1.2167</td>\n",
              "    </tr>\n",
              "    <tr>\n",
              "      <th id=\"T_587ea_level0_row5\" class=\"row_heading level0 row5\" >svm</th>\n",
              "      <td id=\"T_587ea_row5_col0\" class=\"data row5 col0\" >SVM - Linear Kernel</td>\n",
              "      <td id=\"T_587ea_row5_col1\" class=\"data row5 col1\" >0.9827</td>\n",
              "      <td id=\"T_587ea_row5_col2\" class=\"data row5 col2\" >0.0000</td>\n",
              "      <td id=\"T_587ea_row5_col3\" class=\"data row5 col3\" >0.6279</td>\n",
              "      <td id=\"T_587ea_row5_col4\" class=\"data row5 col4\" >0.9969</td>\n",
              "      <td id=\"T_587ea_row5_col5\" class=\"data row5 col5\" >0.7704</td>\n",
              "      <td id=\"T_587ea_row5_col6\" class=\"data row5 col6\" >0.7619</td>\n",
              "      <td id=\"T_587ea_row5_col7\" class=\"data row5 col7\" >0.7840</td>\n",
              "      <td id=\"T_587ea_row5_col8\" class=\"data row5 col8\" >0.4550</td>\n",
              "    </tr>\n",
              "    <tr>\n",
              "      <th id=\"T_587ea_level0_row6\" class=\"row_heading level0 row6\" >knn</th>\n",
              "      <td id=\"T_587ea_row6_col0\" class=\"data row6 col0\" >K Neighbors Classifier</td>\n",
              "      <td id=\"T_587ea_row6_col1\" class=\"data row6 col1\" >0.9822</td>\n",
              "      <td id=\"T_587ea_row6_col2\" class=\"data row6 col2\" >0.9629</td>\n",
              "      <td id=\"T_587ea_row6_col3\" class=\"data row6 col3\" >0.7803</td>\n",
              "      <td id=\"T_587ea_row6_col4\" class=\"data row6 col4\" >0.8264</td>\n",
              "      <td id=\"T_587ea_row6_col5\" class=\"data row6 col5\" >0.8026</td>\n",
              "      <td id=\"T_587ea_row6_col6\" class=\"data row6 col6\" >0.7933</td>\n",
              "      <td id=\"T_587ea_row6_col7\" class=\"data row6 col7\" >0.7937</td>\n",
              "      <td id=\"T_587ea_row6_col8\" class=\"data row6 col8\" >17.9850</td>\n",
              "    </tr>\n",
              "    <tr>\n",
              "      <th id=\"T_587ea_level0_row7\" class=\"row_heading level0 row7\" >dt</th>\n",
              "      <td id=\"T_587ea_row7_col0\" class=\"data row7 col0\" >Decision Tree Classifier</td>\n",
              "      <td id=\"T_587ea_row7_col1\" class=\"data row7 col1\" >0.9816</td>\n",
              "      <td id=\"T_587ea_row7_col2\" class=\"data row7 col2\" >0.8863</td>\n",
              "      <td id=\"T_587ea_row7_col3\" class=\"data row7 col3\" >0.7773</td>\n",
              "      <td id=\"T_587ea_row7_col4\" class=\"data row7 col4\" >0.8159</td>\n",
              "      <td id=\"T_587ea_row7_col5\" class=\"data row7 col5\" >0.7960</td>\n",
              "      <td id=\"T_587ea_row7_col6\" class=\"data row7 col6\" >0.7864</td>\n",
              "      <td id=\"T_587ea_row7_col7\" class=\"data row7 col7\" >0.7867</td>\n",
              "      <td id=\"T_587ea_row7_col8\" class=\"data row7 col8\" >0.6050</td>\n",
              "    </tr>\n",
              "    <tr>\n",
              "      <th id=\"T_587ea_level0_row8\" class=\"row_heading level0 row8\" >lr</th>\n",
              "      <td id=\"T_587ea_row8_col0\" class=\"data row8 col0\" >Logistic Regression</td>\n",
              "      <td id=\"T_587ea_row8_col1\" class=\"data row8 col1\" >0.9814</td>\n",
              "      <td id=\"T_587ea_row8_col2\" class=\"data row8 col2\" >0.9549</td>\n",
              "      <td id=\"T_587ea_row8_col3\" class=\"data row8 col3\" >0.5992</td>\n",
              "      <td id=\"T_587ea_row8_col4\" class=\"data row8 col4\" >0.9991</td>\n",
              "      <td id=\"T_587ea_row8_col5\" class=\"data row8 col5\" >0.7489</td>\n",
              "      <td id=\"T_587ea_row8_col6\" class=\"data row8 col6\" >0.7399</td>\n",
              "      <td id=\"T_587ea_row8_col7\" class=\"data row8 col7\" >0.7662</td>\n",
              "      <td id=\"T_587ea_row8_col8\" class=\"data row8 col8\" >3.1250</td>\n",
              "    </tr>\n",
              "    <tr>\n",
              "      <th id=\"T_587ea_level0_row9\" class=\"row_heading level0 row9\" >ridge</th>\n",
              "      <td id=\"T_587ea_row9_col0\" class=\"data row9 col0\" >Ridge Classifier</td>\n",
              "      <td id=\"T_587ea_row9_col1\" class=\"data row9 col1\" >0.9808</td>\n",
              "      <td id=\"T_587ea_row9_col2\" class=\"data row9 col2\" >0.0000</td>\n",
              "      <td id=\"T_587ea_row9_col3\" class=\"data row9 col3\" >0.5847</td>\n",
              "      <td id=\"T_587ea_row9_col4\" class=\"data row9 col4\" >1.0000</td>\n",
              "      <td id=\"T_587ea_row9_col5\" class=\"data row9 col5\" >0.7377</td>\n",
              "      <td id=\"T_587ea_row9_col6\" class=\"data row9 col6\" >0.7285</td>\n",
              "      <td id=\"T_587ea_row9_col7\" class=\"data row9 col7\" >0.7570</td>\n",
              "      <td id=\"T_587ea_row9_col8\" class=\"data row9 col8\" >0.2650</td>\n",
              "    </tr>\n",
              "    <tr>\n",
              "      <th id=\"T_587ea_level0_row10\" class=\"row_heading level0 row10\" >ada</th>\n",
              "      <td id=\"T_587ea_row10_col0\" class=\"data row10 col0\" >Ada Boost Classifier</td>\n",
              "      <td id=\"T_587ea_row10_col1\" class=\"data row10 col1\" >0.9594</td>\n",
              "      <td id=\"T_587ea_row10_col2\" class=\"data row10 col2\" >0.9166</td>\n",
              "      <td id=\"T_587ea_row10_col3\" class=\"data row10 col3\" >0.1281</td>\n",
              "      <td id=\"T_587ea_row10_col4\" class=\"data row10 col4\" >0.9548</td>\n",
              "      <td id=\"T_587ea_row10_col5\" class=\"data row10 col5\" >0.2249</td>\n",
              "      <td id=\"T_587ea_row10_col6\" class=\"data row10 col6\" >0.2164</td>\n",
              "      <td id=\"T_587ea_row10_col7\" class=\"data row10 col7\" >0.3400</td>\n",
              "      <td id=\"T_587ea_row10_col8\" class=\"data row10 col8\" >4.8133</td>\n",
              "    </tr>\n",
              "    <tr>\n",
              "      <th id=\"T_587ea_level0_row11\" class=\"row_heading level0 row11\" >gbc</th>\n",
              "      <td id=\"T_587ea_row11_col0\" class=\"data row11 col0\" >Gradient Boosting Classifier</td>\n",
              "      <td id=\"T_587ea_row11_col1\" class=\"data row11 col1\" >0.9569</td>\n",
              "      <td id=\"T_587ea_row11_col2\" class=\"data row11 col2\" >0.9241</td>\n",
              "      <td id=\"T_587ea_row11_col3\" class=\"data row11 col3\" >0.0699</td>\n",
              "      <td id=\"T_587ea_row11_col4\" class=\"data row11 col4\" >0.9796</td>\n",
              "      <td id=\"T_587ea_row11_col5\" class=\"data row11 col5\" >0.1300</td>\n",
              "      <td id=\"T_587ea_row11_col6\" class=\"data row11 col6\" >0.1247</td>\n",
              "      <td id=\"T_587ea_row11_col7\" class=\"data row11 col7\" >0.2535</td>\n",
              "      <td id=\"T_587ea_row11_col8\" class=\"data row11 col8\" >13.4917</td>\n",
              "    </tr>\n",
              "    <tr>\n",
              "      <th id=\"T_587ea_level0_row12\" class=\"row_heading level0 row12\" >dummy</th>\n",
              "      <td id=\"T_587ea_row12_col0\" class=\"data row12 col0\" >Dummy Classifier</td>\n",
              "      <td id=\"T_587ea_row12_col1\" class=\"data row12 col1\" >0.9537</td>\n",
              "      <td id=\"T_587ea_row12_col2\" class=\"data row12 col2\" >0.5000</td>\n",
              "      <td id=\"T_587ea_row12_col3\" class=\"data row12 col3\" >0.0000</td>\n",
              "      <td id=\"T_587ea_row12_col4\" class=\"data row12 col4\" >0.0000</td>\n",
              "      <td id=\"T_587ea_row12_col5\" class=\"data row12 col5\" >0.0000</td>\n",
              "      <td id=\"T_587ea_row12_col6\" class=\"data row12 col6\" >0.0000</td>\n",
              "      <td id=\"T_587ea_row12_col7\" class=\"data row12 col7\" >0.0000</td>\n",
              "      <td id=\"T_587ea_row12_col8\" class=\"data row12 col8\" >0.5817</td>\n",
              "    </tr>\n",
              "    <tr>\n",
              "      <th id=\"T_587ea_level0_row13\" class=\"row_heading level0 row13\" >nb</th>\n",
              "      <td id=\"T_587ea_row13_col0\" class=\"data row13 col0\" >Naive Bayes</td>\n",
              "      <td id=\"T_587ea_row13_col1\" class=\"data row13 col1\" >0.3801</td>\n",
              "      <td id=\"T_587ea_row13_col2\" class=\"data row13 col2\" >0.7130</td>\n",
              "      <td id=\"T_587ea_row13_col3\" class=\"data row13 col3\" >0.9806</td>\n",
              "      <td id=\"T_587ea_row13_col4\" class=\"data row13 col4\" >0.0683</td>\n",
              "      <td id=\"T_587ea_row13_col5\" class=\"data row13 col5\" >0.1277</td>\n",
              "      <td id=\"T_587ea_row13_col6\" class=\"data row13 col6\" >0.0451</td>\n",
              "      <td id=\"T_587ea_row13_col7\" class=\"data row13 col7\" >0.1475</td>\n",
              "      <td id=\"T_587ea_row13_col8\" class=\"data row13 col8\" >0.3083</td>\n",
              "    </tr>\n",
              "    <tr>\n",
              "      <th id=\"T_587ea_level0_row14\" class=\"row_heading level0 row14\" >qda</th>\n",
              "      <td id=\"T_587ea_row14_col0\" class=\"data row14 col0\" >Quadratic Discriminant Analysis</td>\n",
              "      <td id=\"T_587ea_row14_col1\" class=\"data row14 col1\" >0.0932</td>\n",
              "      <td id=\"T_587ea_row14_col2\" class=\"data row14 col2\" >0.5241</td>\n",
              "      <td id=\"T_587ea_row14_col3\" class=\"data row14 col3\" >0.9989</td>\n",
              "      <td id=\"T_587ea_row14_col4\" class=\"data row14 col4\" >0.0485</td>\n",
              "      <td id=\"T_587ea_row14_col5\" class=\"data row14 col5\" >0.0925</td>\n",
              "      <td id=\"T_587ea_row14_col6\" class=\"data row14 col6\" >0.0047</td>\n",
              "      <td id=\"T_587ea_row14_col7\" class=\"data row14 col7\" >0.0474</td>\n",
              "      <td id=\"T_587ea_row14_col8\" class=\"data row14 col8\" >0.7633</td>\n",
              "    </tr>\n",
              "  </tbody>\n",
              "</table>\n"
            ]
          },
          "metadata": {}
        },
        {
          "output_type": "display_data",
          "data": {
            "text/plain": [
              "Processing:   0%|          | 0/65 [00:00<?, ?it/s]"
            ],
            "application/vnd.jupyter.widget-view+json": {
              "version_major": 2,
              "version_minor": 0,
              "model_id": "005695b082304bce84616609e1e685b3"
            }
          },
          "metadata": {
            "application/vnd.jupyter.widget-view+json": {
              "colab": {
                "custom_widget_manager": {
                  "url": "https://ssl.gstatic.com/colaboratory-static/widgets/colab-cdn-widget-manager/b3e629b1971e1542/manager.min.js"
                }
              }
            }
          }
        },
        {
          "output_type": "display_data",
          "data": {
            "text/plain": [
              "<IPython.core.display.HTML object>"
            ],
            "text/html": []
          },
          "metadata": {}
        },
        {
          "output_type": "execute_result",
          "data": {
            "text/plain": [
              "XGBClassifier(base_score=None, booster='gbtree', callbacks=None,\n",
              "              colsample_bylevel=None, colsample_bynode=None,\n",
              "              colsample_bytree=None, early_stopping_rounds=None,\n",
              "              enable_categorical=False, eval_metric=None, feature_types=None,\n",
              "              gamma=None, gpu_id=None, grow_policy=None, importance_type=None,\n",
              "              interaction_constraints=None, learning_rate=None, max_bin=None,\n",
              "              max_cat_threshold=None, max_cat_to_onehot=None,\n",
              "              max_delta_step=None, max_depth=None, max_leaves=None,\n",
              "              min_child_weight=None, missing=nan, monotone_constraints=None,\n",
              "              n_estimators=100, n_jobs=-1, num_parallel_tree=None,\n",
              "              objective='binary:logistic', predictor=None, ...)"
            ],
            "text/html": [
              "<style>#sk-container-id-2 {color: black;background-color: white;}#sk-container-id-2 pre{padding: 0;}#sk-container-id-2 div.sk-toggleable {background-color: white;}#sk-container-id-2 label.sk-toggleable__label {cursor: pointer;display: block;width: 100%;margin-bottom: 0;padding: 0.3em;box-sizing: border-box;text-align: center;}#sk-container-id-2 label.sk-toggleable__label-arrow:before {content: \"▸\";float: left;margin-right: 0.25em;color: #696969;}#sk-container-id-2 label.sk-toggleable__label-arrow:hover:before {color: black;}#sk-container-id-2 div.sk-estimator:hover label.sk-toggleable__label-arrow:before {color: black;}#sk-container-id-2 div.sk-toggleable__content {max-height: 0;max-width: 0;overflow: hidden;text-align: left;background-color: #f0f8ff;}#sk-container-id-2 div.sk-toggleable__content pre {margin: 0.2em;color: black;border-radius: 0.25em;background-color: #f0f8ff;}#sk-container-id-2 input.sk-toggleable__control:checked~div.sk-toggleable__content {max-height: 200px;max-width: 100%;overflow: auto;}#sk-container-id-2 input.sk-toggleable__control:checked~label.sk-toggleable__label-arrow:before {content: \"▾\";}#sk-container-id-2 div.sk-estimator input.sk-toggleable__control:checked~label.sk-toggleable__label {background-color: #d4ebff;}#sk-container-id-2 div.sk-label input.sk-toggleable__control:checked~label.sk-toggleable__label {background-color: #d4ebff;}#sk-container-id-2 input.sk-hidden--visually {border: 0;clip: rect(1px 1px 1px 1px);clip: rect(1px, 1px, 1px, 1px);height: 1px;margin: -1px;overflow: hidden;padding: 0;position: absolute;width: 1px;}#sk-container-id-2 div.sk-estimator {font-family: monospace;background-color: #f0f8ff;border: 1px dotted black;border-radius: 0.25em;box-sizing: border-box;margin-bottom: 0.5em;}#sk-container-id-2 div.sk-estimator:hover {background-color: #d4ebff;}#sk-container-id-2 div.sk-parallel-item::after {content: \"\";width: 100%;border-bottom: 1px solid gray;flex-grow: 1;}#sk-container-id-2 div.sk-label:hover label.sk-toggleable__label {background-color: #d4ebff;}#sk-container-id-2 div.sk-serial::before {content: \"\";position: absolute;border-left: 1px solid gray;box-sizing: border-box;top: 0;bottom: 0;left: 50%;z-index: 0;}#sk-container-id-2 div.sk-serial {display: flex;flex-direction: column;align-items: center;background-color: white;padding-right: 0.2em;padding-left: 0.2em;position: relative;}#sk-container-id-2 div.sk-item {position: relative;z-index: 1;}#sk-container-id-2 div.sk-parallel {display: flex;align-items: stretch;justify-content: center;background-color: white;position: relative;}#sk-container-id-2 div.sk-item::before, #sk-container-id-2 div.sk-parallel-item::before {content: \"\";position: absolute;border-left: 1px solid gray;box-sizing: border-box;top: 0;bottom: 0;left: 50%;z-index: -1;}#sk-container-id-2 div.sk-parallel-item {display: flex;flex-direction: column;z-index: 1;position: relative;background-color: white;}#sk-container-id-2 div.sk-parallel-item:first-child::after {align-self: flex-end;width: 50%;}#sk-container-id-2 div.sk-parallel-item:last-child::after {align-self: flex-start;width: 50%;}#sk-container-id-2 div.sk-parallel-item:only-child::after {width: 0;}#sk-container-id-2 div.sk-dashed-wrapped {border: 1px dashed gray;margin: 0 0.4em 0.5em 0.4em;box-sizing: border-box;padding-bottom: 0.4em;background-color: white;}#sk-container-id-2 div.sk-label label {font-family: monospace;font-weight: bold;display: inline-block;line-height: 1.2em;}#sk-container-id-2 div.sk-label-container {text-align: center;}#sk-container-id-2 div.sk-container {/* jupyter's `normalize.less` sets `[hidden] { display: none; }` but bootstrap.min.css set `[hidden] { display: none !important; }` so we also need the `!important` here to be able to override the default hidden behavior on the sphinx rendered scikit-learn.org. See: https://github.com/scikit-learn/scikit-learn/issues/21755 */display: inline-block !important;position: relative;}#sk-container-id-2 div.sk-text-repr-fallback {display: none;}</style><div id=\"sk-container-id-2\" class=\"sk-top-container\"><div class=\"sk-text-repr-fallback\"><pre>XGBClassifier(base_score=None, booster=&#x27;gbtree&#x27;, callbacks=None,\n",
              "              colsample_bylevel=None, colsample_bynode=None,\n",
              "              colsample_bytree=None, early_stopping_rounds=None,\n",
              "              enable_categorical=False, eval_metric=None, feature_types=None,\n",
              "              gamma=None, gpu_id=None, grow_policy=None, importance_type=None,\n",
              "              interaction_constraints=None, learning_rate=None, max_bin=None,\n",
              "              max_cat_threshold=None, max_cat_to_onehot=None,\n",
              "              max_delta_step=None, max_depth=None, max_leaves=None,\n",
              "              min_child_weight=None, missing=nan, monotone_constraints=None,\n",
              "              n_estimators=100, n_jobs=-1, num_parallel_tree=None,\n",
              "              objective=&#x27;binary:logistic&#x27;, predictor=None, ...)</pre><b>In a Jupyter environment, please rerun this cell to show the HTML representation or trust the notebook. <br />On GitHub, the HTML representation is unable to render, please try loading this page with nbviewer.org.</b></div><div class=\"sk-container\" hidden><div class=\"sk-item\"><div class=\"sk-estimator sk-toggleable\"><input class=\"sk-toggleable__control sk-hidden--visually\" id=\"sk-estimator-id-2\" type=\"checkbox\" checked><label for=\"sk-estimator-id-2\" class=\"sk-toggleable__label sk-toggleable__label-arrow\">XGBClassifier</label><div class=\"sk-toggleable__content\"><pre>XGBClassifier(base_score=None, booster=&#x27;gbtree&#x27;, callbacks=None,\n",
              "              colsample_bylevel=None, colsample_bynode=None,\n",
              "              colsample_bytree=None, early_stopping_rounds=None,\n",
              "              enable_categorical=False, eval_metric=None, feature_types=None,\n",
              "              gamma=None, gpu_id=None, grow_policy=None, importance_type=None,\n",
              "              interaction_constraints=None, learning_rate=None, max_bin=None,\n",
              "              max_cat_threshold=None, max_cat_to_onehot=None,\n",
              "              max_delta_step=None, max_depth=None, max_leaves=None,\n",
              "              min_child_weight=None, missing=nan, monotone_constraints=None,\n",
              "              n_estimators=100, n_jobs=-1, num_parallel_tree=None,\n",
              "              objective=&#x27;binary:logistic&#x27;, predictor=None, ...)</pre></div></div></div></div></div>"
            ]
          },
          "metadata": {},
          "execution_count": 29
        }
      ]
    },
    {
      "cell_type": "markdown",
      "source": [
        "Según los reultados de los algoritmos vemos que Xgboost es el algoritmo más prometedor a clasificar mejor el target. Procedo a tunear este algoritmo.\n",
        "También podría probar lightgbm pero este funcionar de forma muy similar al Xgboost. Otra opción sería probar también el Extra Trees Classifier y Random Forest y realizar un ensamblado de modelos por votación soft de estos junto al Xgboost; sin embargo por ahora no lo realizo y solo probaré el Xgboost."
      ],
      "metadata": {
        "id": "zjgRtnS_l9DB"
      }
    },
    {
      "cell_type": "code",
      "source": [
        "# Función para graficar matriz de confusión y métricas\n",
        "%matplotlib inline\n",
        "import matplotlib.pyplot as plt\n",
        "import seaborn as sns\n",
        "\n",
        "def mostrar_resultados(y_test, pred_y):\n",
        "    conf_matrix = confusion_matrix(y_test, pred_y)\n",
        "    plt.figure(figsize=(5, 5))\n",
        "    sns.heatmap(conf_matrix, xticklabels=[0,1], yticklabels=[0,1], annot=True, fmt=\"d\");\n",
        "    plt.title(\"Confusion matrix\")\n",
        "    plt.ylabel('True class')\n",
        "    plt.xlabel('Predicted class')\n",
        "    plt.show()\n",
        "    print (classification_report(y_test, pred_y))"
      ],
      "metadata": {
        "id": "YvBjLW733uuv"
      },
      "execution_count": null,
      "outputs": []
    },
    {
      "cell_type": "markdown",
      "source": [
        "Tuning del modelo Random Forest, tiene métricas aceptables aumque no las mejores."
      ],
      "metadata": {
        "id": "rTAJo7QcD6Xm"
      }
    },
    {
      "cell_type": "markdown",
      "source": [
        "Utilizo la librería optuna para las pruebas de los hiperparámetros y quedarnos con los mejores"
      ],
      "metadata": {
        "id": "ViJl7Ig5Mn_A"
      }
    },
    {
      "cell_type": "code",
      "source": [
        "import optuna\n",
        "from optuna.integration import OptunaSearchCV\n",
        "from sklearn.model_selection import StratifiedKFold\n",
        "optuna.logging.set_verbosity(optuna.logging.WARNING)"
      ],
      "metadata": {
        "id": "BXUWyuw26NAT"
      },
      "execution_count": null,
      "outputs": []
    },
    {
      "cell_type": "code",
      "source": [
        "from sklearn.ensemble import RandomForestClassifier\n",
        "def objective(trial, X, y, scoring):\n",
        "    param_grid = {\n",
        "        # \"device_type\": trial.suggest_categorical(\"device_type\", ['gpu']),\n",
        "        \"n_estimators\": trial.suggest_int(\"n_estimators\", 100, 2000, step = 100),\n",
        "        \"max_depth\": trial.suggest_int(\"max_depth\", 3, 10),\n",
        "        \"min_samples_split\": trial.suggest_int(\"min_samples_split\", 3, 10),\n",
        "        \"max_features\": trial.suggest_categorical(\"max_features\", [\"auto\", \"sqrt\", \"log2\"]),\n",
        "        \"class_weight\": trial.suggest_categorical(\"class_weight\", [\"balanced\"])\n",
        "    }\n",
        "\n",
        "    cv = StratifiedKFold(n_splits=6, shuffle=True, random_state=123)\n",
        "\n",
        "    cv_scores = np.empty(6)\n",
        "    for idx, (train_idx, test_idx) in enumerate(cv.split(X, y)):\n",
        "        X_train, X_test = X.iloc[train_idx], X.iloc[test_idx]\n",
        "        y_train, y_test = y[train_idx], y[test_idx]\n",
        "\n",
        "        model = RandomForestClassifier(**param_grid)\n",
        "        model.fit(\n",
        "            X_train,\n",
        "            y_train\n",
        "        )\n",
        "        preds = model.predict_proba(X_test)\n",
        "        cv_scores[idx] = log_loss(y_test, preds)\n",
        "\n",
        "    return np.mean(cv_scores)"
      ],
      "metadata": {
        "id": "c65iyq3V-lxY"
      },
      "execution_count": null,
      "outputs": []
    },
    {
      "cell_type": "code",
      "source": [
        "study = optuna.create_study(direction=\"maximize\", study_name=\"RF Classifier\")\n",
        "func = lambda trial: objective(trial, pd.DataFrame(X_st_overunder), y_st_overunder, scoring = \"auc\")\n",
        "study.optimize(func, n_trials=5)"
      ],
      "metadata": {
        "id": "v_rA-DMoJ6Iw"
      },
      "execution_count": null,
      "outputs": []
    },
    {
      "cell_type": "code",
      "source": [
        "print(f\"\\tBest value (auc): {study.best_value:.5f}\")\n",
        "print(f\"\\tBest params:\")\n",
        "for key, value in study.best_params.items():\n",
        "    print(f\"\\t\\t{key}: {value}\")"
      ],
      "metadata": {
        "colab": {
          "base_uri": "https://localhost:8080/"
        },
        "id": "pjx-vqc9KqXU",
        "outputId": "2d5e30a8-0e19-45b5-9133-7950c09f23d9"
      },
      "execution_count": null,
      "outputs": [
        {
          "output_type": "stream",
          "name": "stdout",
          "text": [
            "\tBest value (auc): 0.59483\n",
            "\tBest params:\n",
            "\t\tn_estimators: 1000\n",
            "\t\tmax_depth: 3\n",
            "\t\tmin_samples_split: 8\n",
            "\t\tmax_features: log2\n",
            "\t\tclass_weight: balanced\n"
          ]
        }
      ]
    },
    {
      "cell_type": "code",
      "source": [
        "# Entrenamiento del modelo Random Forest con los mejores hiperparámetros que nos dio optuna\n",
        "from sklearn.ensemble import RandomForestClassifier\n",
        "rf_model_base_optimo = RandomForestClassifier(n_estimators= 1000,\n",
        "                                                   max_depth= 3,\n",
        "                                                   min_samples_split= 8, \n",
        "                                                   max_features= 'log2',\n",
        "                                                   class_weight= 'balanced',                                           \n",
        "                                                   random_state=123)\n",
        "\n",
        "rf_model_base_optimo.fit(X_st_overunder, y_st_overunder)\n",
        "\n",
        "pred_y_train= rf_model_base_optimo.predict(X_st_overunder)\n",
        "pred_y_test= rf_model_base_optimo.predict(X_test)\n",
        "prob_train = rf_model_base_optimo.predict_proba(X_st_overunder)[:,1]\n",
        "prob_test = rf_model_base_optimo.predict_proba(X_test)[:,1]\n",
        "\n",
        "mostrar_resultados(y_test, pred_y_test)\n",
        "metrics = pd.DataFrame({'metric':['AUC','Precision','Recall','f1-score'],\n",
        "                                'train':[roc_auc_score(y_st_overunder, prob_train),\n",
        "                                                precision_score(y_st_overunder,pred_y_train),\n",
        "                                                recall_score(y_st_overunder,pred_y_train),\n",
        "                                                f1_score(y_st_overunder,pred_y_train)],\n",
        "\n",
        "                                'test':[roc_auc_score(y_test, prob_test),\n",
        "                                               precision_score(y_test,pred_y_test),\n",
        "                                               recall_score(y_test,pred_y_test),\n",
        "                                               f1_score(y_test,pred_y_test)]})\n",
        "\n",
        "metrics"
      ],
      "metadata": {
        "colab": {
          "base_uri": "https://localhost:8080/",
          "height": 809
        },
        "id": "xIHXZKiyKqZy",
        "outputId": "7e24a2d6-6c50-4d19-92fc-0db728ba559b"
      },
      "execution_count": null,
      "outputs": [
        {
          "output_type": "display_data",
          "data": {
            "text/plain": [
              "<Figure size 500x500 with 2 Axes>"
            ],
            "image/png": "[encoded data removed]"
          },
          "metadata": {}
        },
        {
          "output_type": "stream",
          "name": "stdout",
          "text": [
            "              precision    recall  f1-score   support\n",
            "\n",
            "           0       1.00      0.69      0.82     26990\n",
            "           1       0.00      0.60      0.01        60\n",
            "\n",
            "    accuracy                           0.69     27050\n",
            "   macro avg       0.50      0.65      0.41     27050\n",
            "weighted avg       1.00      0.69      0.82     27050\n",
            "\n"
          ]
        },
        {
          "output_type": "execute_result",
          "data": {
            "text/plain": [
              "      metric     train      test\n",
              "0        AUC  0.811004  0.724997\n",
              "1  Precision  0.105632  0.004298\n",
              "2     Recall  0.747562  0.600000\n",
              "3   f1-score  0.185107  0.008535"
            ],
            "text/html": [
              "\n",
              "  <div id=\"df-6efc7376-41de-454f-bac3-03d097531218\">\n",
              "    <div class=\"colab-df-container\">\n",
              "      <div>\n",
              "<style scoped>\n",
              "    .dataframe tbody tr th:only-of-type {\n",
              "        vertical-align: middle;\n",
              "    }\n",
              "\n",
              "    .dataframe tbody tr th {\n",
              "        vertical-align: top;\n",
              "    }\n",
              "\n",
              "    .dataframe thead th {\n",
              "        text-align: right;\n",
              "    }\n",
              "</style>\n",
              "<table border=\"1\" class=\"dataframe\">\n",
              "  <thead>\n",
              "    <tr style=\"text-align: right;\">\n",
              "      <th></th>\n",
              "      <th>metric</th>\n",
              "      <th>train</th>\n",
              "      <th>test</th>\n",
              "    </tr>\n",
              "  </thead>\n",
              "  <tbody>\n",
              "    <tr>\n",
              "      <th>0</th>\n",
              "      <td>AUC</td>\n",
              "      <td>0.811004</td>\n",
              "      <td>0.724997</td>\n",
              "    </tr>\n",
              "    <tr>\n",
              "      <th>1</th>\n",
              "      <td>Precision</td>\n",
              "      <td>0.105632</td>\n",
              "      <td>0.004298</td>\n",
              "    </tr>\n",
              "    <tr>\n",
              "      <th>2</th>\n",
              "      <td>Recall</td>\n",
              "      <td>0.747562</td>\n",
              "      <td>0.600000</td>\n",
              "    </tr>\n",
              "    <tr>\n",
              "      <th>3</th>\n",
              "      <td>f1-score</td>\n",
              "      <td>0.185107</td>\n",
              "      <td>0.008535</td>\n",
              "    </tr>\n",
              "  </tbody>\n",
              "</table>\n",
              "</div>\n",
              "      <button class=\"colab-df-convert\" onclick=\"convertToInteractive('df-6efc7376-41de-454f-bac3-03d097531218')\"\n",
              "              title=\"Convert this dataframe to an interactive table.\"\n",
              "              style=\"display:none;\">\n",
              "        \n",
              "  <svg xmlns=\"http://www.w3.org/2000/svg\" height=\"24px\"viewBox=\"0 0 24 24\"\n",
              "       width=\"24px\">\n",
              "    <path d=\"M0 0h24v24H0V0z\" fill=\"none\"/>\n",
              "    <path d=\"M18.56 5.44l.94 2.06.94-2.06 2.06-.94-2.06-.94-.94-2.06-.94 2.06-2.06.94zm-11 1L8.5 8.5l.94-2.06 2.06-.94-2.06-.94L8.5 2.5l-.94 2.06-2.06.94zm10 10l.94 2.06.94-2.06 2.06-.94-2.06-.94-.94-2.06-.94 2.06-2.06.94z\"/><path d=\"M17.41 7.96l-1.37-1.37c-.4-.4-.92-.59-1.43-.59-.52 0-1.04.2-1.43.59L10.3 9.45l-7.72 7.72c-.78.78-.78 2.05 0 2.83L4 21.41c.39.39.9.59 1.41.59.51 0 1.02-.2 1.41-.59l7.78-7.78 2.81-2.81c.8-.78.8-2.07 0-2.86zM5.41 20L4 18.59l7.72-7.72 1.47 1.35L5.41 20z\"/>\n",
              "  </svg>\n",
              "      </button>\n",
              "      \n",
              "  <style>\n",
              "    .colab-df-container {\n",
              "      display:flex;\n",
              "      flex-wrap:wrap;\n",
              "      gap: 12px;\n",
              "    }\n",
              "\n",
              "    .colab-df-convert {\n",
              "      background-color: #E8F0FE;\n",
              "      border: none;\n",
              "      border-radius: 50%;\n",
              "      cursor: pointer;\n",
              "      display: none;\n",
              "      fill: #1967D2;\n",
              "      height: 32px;\n",
              "      padding: 0 0 0 0;\n",
              "      width: 32px;\n",
              "    }\n",
              "\n",
              "    .colab-df-convert:hover {\n",
              "      background-color: #E2EBFA;\n",
              "      box-shadow: 0px 1px 2px rgba(60, 64, 67, 0.3), 0px 1px 3px 1px rgba(60, 64, 67, 0.15);\n",
              "      fill: #174EA6;\n",
              "    }\n",
              "\n",
              "    [theme=dark] .colab-df-convert {\n",
              "      background-color: #3B4455;\n",
              "      fill: #D2E3FC;\n",
              "    }\n",
              "\n",
              "    [theme=dark] .colab-df-convert:hover {\n",
              "      background-color: #434B5C;\n",
              "      box-shadow: 0px 1px 3px 1px rgba(0, 0, 0, 0.15);\n",
              "      filter: drop-shadow(0px 1px 2px rgba(0, 0, 0, 0.3));\n",
              "      fill: #FFFFFF;\n",
              "    }\n",
              "  </style>\n",
              "\n",
              "      <script>\n",
              "        const buttonEl =\n",
              "          document.querySelector('#df-6efc7376-41de-454f-bac3-03d097531218 button.colab-df-convert');\n",
              "        buttonEl.style.display =\n",
              "          google.colab.kernel.accessAllowed ? 'block' : 'none';\n",
              "\n",
              "        async function convertToInteractive(key) {\n",
              "          const element = document.querySelector('#df-6efc7376-41de-454f-bac3-03d097531218');\n",
              "          const dataTable =\n",
              "            await google.colab.kernel.invokeFunction('convertToInteractive',\n",
              "                                                     [key], {});\n",
              "          if (!dataTable) return;\n",
              "\n",
              "          const docLinkHtml = 'Like what you see? Visit the ' +\n",
              "            '<a target=\"_blank\" href=https://colab.research.google.com/notebooks/data_table.ipynb>data table notebook</a>'\n",
              "            + ' to learn more about interactive tables.';\n",
              "          element.innerHTML = '';\n",
              "          dataTable['output_type'] = 'display_data';\n",
              "          await google.colab.output.renderOutput(dataTable, element);\n",
              "          const docLink = document.createElement('div');\n",
              "          docLink.innerHTML = docLinkHtml;\n",
              "          element.appendChild(docLink);\n",
              "        }\n",
              "      </script>\n",
              "    </div>\n",
              "  </div>\n",
              "  "
            ]
          },
          "metadata": {},
          "execution_count": 51
        }
      ]
    },
    {
      "cell_type": "code",
      "source": [
        "# Gráfico de la importancia de las variables\n",
        "plt.rcParams['figure.figsize']=(18,6)\n",
        "importances = rf_model_base_optimo.feature_importances_\n",
        "indices = np.argsort(importances)[::-1]\n",
        "feature_names = X_st_overunder.columns\n",
        "plt.figure()\n",
        "plt.title(\"Importancia de las variables\")\n",
        "plt.bar(range(X_st_overunder.shape[1]), importances[indices])\n",
        "plt.xticks(range(X_st_overunder.shape[1]), feature_names[indices])\n",
        "plt.xticks(rotation=90)\n",
        "plt.xlabel(\"Características\")\n",
        "plt.ylabel(\"Importancia\")\n",
        "plt.show()"
      ],
      "metadata": {
        "colab": {
          "base_uri": "https://localhost:8080/",
          "height": 745
        },
        "id": "2XB7YCt5N5D2",
        "outputId": "08508bc6-9a6d-4594-f430-6f5ba8ab916b"
      },
      "execution_count": null,
      "outputs": [
        {
          "output_type": "display_data",
          "data": {
            "text/plain": [
              "<Figure size 1800x600 with 1 Axes>"
            ],
            "image/png": "[encoded data removed]"
          },
          "metadata": {}
        }
      ]
    },
    {
      "cell_type": "markdown",
      "source": [
        "### Conclusión: Se observa sobreajuste, podemos continuar iterando en el entrenamiento y tunear mejor los hiperparámetros o probar otros ensambles de modelos. Por ahora por limitación de tiempo lo dejo así."
      ],
      "metadata": {
        "id": "cTLukbnXEFXv"
      }
    },
    {
      "cell_type": "markdown",
      "source": [
        "Guardamos el modelo entrenado para el proceso de scoring en base de test que se reservó inicialmente"
      ],
      "metadata": {
        "id": "ARskGl2PNclX"
      }
    },
    {
      "cell_type": "code",
      "source": [
        "# Guardo el modelo entrenado\n",
        "import pickle\n",
        "\n",
        "with open('/gdrive/MyDrive/entrenamiento_intercorp/modelo.pkl', 'wb') as archivo:\n",
        "    pickle.dump(rf_model_base_optimo, archivo)"
      ],
      "metadata": {
        "id": "5o3sjrRRNi4s"
      },
      "execution_count": null,
      "outputs": []
    },
    {
      "cell_type": "markdown",
      "source": [
        "# Etapa 5: Sugerencias"
      ],
      "metadata": {
        "id": "zIm4qL1uUM47"
      }
    },
    {
      "cell_type": "markdown",
      "source": [
        "## Conclusiones:\n",
        "* El problema de desbalance de clases en la variable target genera deficiencias en los algoritmos, se trató de suavizar el error generando una nueva base bajo una técnica de resampling, esta mejora y logra predecir valores 1 del target.\n",
        "* Las variables predictoras también presentan desbalance, se propone probar agrupamientos para mejorar esto y tener clases de variables mejor distribuidas.\n",
        "* Realizar el tunning de los hiperparámetros del algoritmo es un proceso de prueba y error, con mayor dedicación se pueden obtener mejores resultados\n",
        "* El proceso de decidir con qué métrica de éxito se va a medir la eficiencia del algoritmo queda a criterio del área de negocio en acuerdo con el desarrollador del modelo, en este caso se quiere priorizar que el modelo prediga mejor los casos de detección de realizar un depósito a plazo fijo por parte del cliente, podemos tener un margen de error para los casos de falsos positivos, los cuales son clientes que serán gestionados por predicción del modelo pero que en la realidad no están propensos a este depósito a plazo fijo. Con esto definido se puede sugerir la métrica de éxito adecuada según el contexto de negocio y capacidad de gestionamiento."
      ],
      "metadata": {
        "id": "g50ngUnsSeGs"
      }
    }
  ]
}